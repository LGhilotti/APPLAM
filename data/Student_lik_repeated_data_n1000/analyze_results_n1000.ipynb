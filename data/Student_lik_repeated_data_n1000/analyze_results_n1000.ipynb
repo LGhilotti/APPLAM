{
  "nbformat": 4,
  "nbformat_minor": 0,
  "metadata": {
    "colab": {
      "provenance": []
    },
    "kernelspec": {
      "name": "python3",
      "display_name": "Python 3"
    },
    "language_info": {
      "name": "python"
    }
  },
  "cells": [
    {
      "cell_type": "code",
      "execution_count": 1,
      "metadata": {
        "id": "BbIL-Ns3dQjk"
      },
      "outputs": [],
      "source": [
        "import numpy as np\n",
        "import matplotlib.pyplot as plt\n",
        "from math import sqrt\n",
        "from scipy import stats\n",
        "from sklearn.metrics import adjusted_rand_score\n",
        "import pandas as pd\n",
        "from itertools import product"
      ]
    },
    {
      "cell_type": "markdown",
      "source": [
        "# Producing Tables"
      ],
      "metadata": {
        "id": "gW2e9E2bfNHx"
      }
    },
    {
      "cell_type": "code",
      "source": [
        "p_s = [500]\n",
        "d_s = [4]\n",
        "list_all = []\n",
        "\n",
        "for p in p_s:\n",
        "  for d in d_s:\n",
        "    with open(\"df_performance_applam_n1000_p{0}_d{1}.csv\".format(p,d), newline='') as my_csv_applam:\n",
        "        df_applam = pd.read_csv(my_csv_applam)\n",
        "        df_applam = df_applam.iloc[: , 1:]\n",
        "        df_applam = df_applam.loc[:, ['model', 'p', 'd', 'intensity', 'mode_nclus', 'avg_nclus', 'ari_best_clus']]\n",
        "        df_applam = df_applam.rename(columns={'intensity': 'parameter'})\n",
        "\n",
        "\n",
        "    list_all.append(df_applam)\n",
        "\n",
        "df_all = pd.concat(list_all)\n",
        "df_all.to_csv(\"df_all_results_table_n1000.csv\")"
      ],
      "metadata": {
        "id": "8yRbwnX713HJ"
      },
      "execution_count": null,
      "outputs": []
    },
    {
      "cell_type": "code",
      "source": [
        "p_s = [500]\n",
        "d_s = [4]\n",
        "rho_s = [0.05, 0.1, 0.2]"
      ],
      "metadata": {
        "id": "mohO2kkM2o-f"
      },
      "execution_count": null,
      "outputs": []
    },
    {
      "cell_type": "markdown",
      "source": [
        "### Produce one csv for each d (two different choices)\n",
        "\n",
        "\n",
        "\n"
      ],
      "metadata": {
        "id": "LutmOu0O2D7d"
      }
    },
    {
      "cell_type": "code",
      "source": [
        "with open(\"df_all_results_table_n1000.csv\", newline='') as my_csv_all:\n",
        "        df_all = pd.read_csv(my_csv_all)\n",
        "\n",
        "d = 4\n",
        "data = df_all.loc[df_all['d']==d]\n",
        "\n",
        "data_agg = data.groupby(['p','model', 'parameter']).agg(\n",
        "    avg_avg_nclus = pd.NamedAgg(column = 'avg_nclus', aggfunc = np.mean),\n",
        "    avg_mode_nclus = pd.NamedAgg(column = 'mode_nclus', aggfunc = np.mean),\n",
        "    avg_ari_best = pd.NamedAgg(column = 'ari_best_clus', aggfunc = np.mean)\n",
        ")\n",
        "\n",
        "\n",
        "ar_ind = []\n",
        "\n",
        "for p in p_s:\n",
        "\n",
        "  ar_app = [np.repeat(\"APPLAM\",3),rho_s]\n",
        "  ar_app = list(zip(*ar_app))\n",
        "\n",
        "  ar_ind = [*ar_ind, *ar_app]\n",
        "\n",
        "\n",
        "index = pd.MultiIndex.from_tuples(ar_ind, names=[ \"Model\", \"Parameter\"])\n",
        "\n",
        "df_final = data_agg.set_index(index)\n",
        "\n",
        "df_final.to_csv(\"summarizing_dataframe_n1000_d_{0}.csv\".format(d))\n",
        "\n"
      ],
      "metadata": {
        "id": "yUmpsbpVfYUx"
      },
      "execution_count": null,
      "outputs": []
    },
    {
      "cell_type": "markdown",
      "source": [
        "### Produce the table in latex format"
      ],
      "metadata": {
        "id": "cESBgest6orr"
      }
    },
    {
      "cell_type": "code",
      "source": [
        "for d in d_s:\n",
        "    with open(\"summarizing_dataframe_n1000_d_{0}.csv\".format(d), newline='') as my_csv:\n",
        "        df = pd.read_csv(my_csv, index_col=[0,1])\n",
        "\n",
        "    df[\"avg_avg_nclus\"] = df[\"avg_avg_nclus\"].round(2)\n",
        "    df[\"avg_mode_nclus\"] = df[\"avg_mode_nclus\"].round(2)\n",
        "\n",
        "    df[\"avg_ari_best\"] = df[\"avg_ari_best\"].round(2)\n",
        "\n",
        "    print(\"d = \",d)\n",
        "\n",
        "    print(df.to_latex())"
      ],
      "metadata": {
        "id": "qPcpuMFFdpCo",
        "colab": {
          "base_uri": "https://localhost:8080/"
        },
        "outputId": "eaf577be-354b-4e1a-89dd-49f438bea1b2"
      },
      "execution_count": null,
      "outputs": [
        {
          "output_type": "stream",
          "name": "stdout",
          "text": [
            "d =  4\n",
            "\\begin{tabular}{llrrr}\n",
            "\\toprule\n",
            "       &      &  avg\\_avg\\_nclus &  avg\\_mode\\_nclus &  avg\\_ari\\_best \\\\\n",
            "Model & Parameter &                &                 &               \\\\\n",
            "\\midrule\n",
            "APPLAM & 0.05 &           2.80 &            2.80 &          0.62 \\\\\n",
            "       & 0.10 &           3.26 &            3.25 &          0.68 \\\\\n",
            "       & 0.20 &           4.44 &            4.45 &          0.71 \\\\\n",
            "\\bottomrule\n",
            "\\end{tabular}\n",
            "\n"
          ]
        },
        {
          "output_type": "stream",
          "name": "stderr",
          "text": [
            "<ipython-input-8-36d59281735a>:12: FutureWarning: In future versions `DataFrame.to_latex` is expected to utilise the base implementation of `Styler.to_latex` for formatting and rendering. The arguments signature may therefore change. It is recommended instead to use `DataFrame.style.to_latex` which also contains additional functionality.\n",
            "  print(df.to_latex())\n"
          ]
        }
      ]
    },
    {
      "cell_type": "markdown",
      "source": [
        "# Producing boxplots"
      ],
      "metadata": {
        "id": "jcwz0SDkflJ2"
      }
    },
    {
      "cell_type": "code",
      "source": [
        "p_s = [500]\n",
        "d_s = [4]\n",
        "list_all = []\n",
        "\n",
        "for p in p_s:\n",
        "  for d in d_s:\n",
        "    with open(\"df_performance_applam_n1000_p{0}_d{1}.csv\".format(p,d), newline='') as my_csv_applam:\n",
        "        df_applam = pd.read_csv(my_csv_applam)\n",
        "        df_applam = df_applam.iloc[: , 1:]\n",
        "        df_applam = df_applam.loc[:, ['model', 'p', 'd', 'intensity', 'mode_nclus', 'avg_nclus', 'ari_best_clus']]\n",
        "\n",
        "\n",
        "    list_all.append(df_applam)\n",
        "\n",
        "df_all = pd.concat(list_all)\n",
        "df_all.to_csv(\"df_all_results_plot_n1000.csv\")"
      ],
      "metadata": {
        "id": "iyIlebKWw2Ag"
      },
      "execution_count": null,
      "outputs": []
    },
    {
      "cell_type": "markdown",
      "source": [
        "### Plot the boxplots"
      ],
      "metadata": {
        "id": "TXejCVZW196M"
      }
    },
    {
      "cell_type": "code",
      "source": [
        "import seaborn as sns\n",
        "with open(\"df_all_results_plot_n1000.csv\", newline='') as my_csv_all:\n",
        "        df_all = pd.read_csv(my_csv_all)\n"
      ],
      "metadata": {
        "id": "wvnKWumA1PP6"
      },
      "execution_count": 2,
      "outputs": []
    },
    {
      "cell_type": "code",
      "source": [
        "plt.figure(figsize=(5,5))\n",
        "\n",
        "d=4\n",
        "\n",
        "# APPLAM row\n",
        "ax1 = sns.boxplot(data = df_all,\n",
        "            y = 'avg_nclus',\n",
        "            hue = 'intensity',\n",
        "            palette = 'tab10')\n",
        "ax1.set(ylabel='Expected number of clusters')\n",
        "ax1.set(xlabel = None)\n",
        "ax1.tick_params(bottom=False)\n",
        "ax1.set(ylim=(1, 8))\n",
        "ax1.set(title = \"APPLAM\")\n",
        "ax1.hlines(y = 4, xmin = -0.5, xmax = 1.5, color = 'red', linestyle ='dashed', linewidth = 1)\n",
        "\n",
        "\n",
        "\n",
        "\n",
        "plt.savefig(\"Nclus_n1000.pdf\", format=\"pdf\", bbox_inches=\"tight\")\n"
      ],
      "metadata": {
        "id": "2l_Gz7C8fnfr",
        "colab": {
          "base_uri": "https://localhost:8080/",
          "height": 452
        },
        "outputId": "150bc09b-a45c-463e-f9f2-54f522a59859"
      },
      "execution_count": 5,
      "outputs": [
        {
          "output_type": "display_data",
          "data": {
            "text/plain": [
              "<Figure size 500x500 with 1 Axes>"
            ],
            "image/png": "[encoded data removed]"
          },
          "metadata": {}
        }
      ]
    },
    {
      "cell_type": "code",
      "source": [
        "plt.figure(figsize=(5,5))\n",
        "\n",
        "d= 4\n",
        "\n",
        "# APPLAM row\n",
        "ax1 = sns.boxplot(data = df_all,\n",
        "            y = 'ari_best_clus',\n",
        "            hue = 'intensity',\n",
        "            palette = 'tab10')\n",
        "ax1.set(ylabel='ARI of Binder\\'s estimate')\n",
        "ax1.set(xlabel = None)\n",
        "ax1.tick_params(bottom=False)\n",
        "ax1.set(ylim=(-0.05, 1.05))\n",
        "ax1.set(title = \"APPLAM\")\n",
        "\n",
        "\n",
        "\n",
        "plt.savefig('Aris_n1000.pdf'.format(d),format=\"pdf\", bbox_inches=\"tight\")\n"
      ],
      "metadata": {
        "colab": {
          "base_uri": "https://localhost:8080/",
          "height": 444
        },
        "id": "_lXMgxM7JEhp",
        "outputId": "9abf8732-21d0-4a98-8b31-1145fc2c7a1f"
      },
      "execution_count": 6,
      "outputs": [
        {
          "output_type": "display_data",
          "data": {
            "text/plain": [
              "<Figure size 500x500 with 1 Axes>"
            ],
            "image/png": "[encoded data removed]"
          },
          "metadata": {}
        }
      ]
    }
  ]
}