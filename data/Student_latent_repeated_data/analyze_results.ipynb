{
  "nbformat": 4,
  "nbformat_minor": 0,
  "metadata": {
    "colab": {
      "provenance": []
    },
    "kernelspec": {
      "name": "python3",
      "display_name": "Python 3"
    },
    "language_info": {
      "name": "python"
    }
  },
  "cells": [
    {
      "cell_type": "code",
      "execution_count": 1,
      "metadata": {
        "id": "BbIL-Ns3dQjk"
      },
      "outputs": [],
      "source": [
        "import numpy as np\n",
        "import matplotlib.pyplot as plt\n",
        "from math import sqrt\n",
        "from scipy import stats\n",
        "from sklearn.metrics import adjusted_rand_score\n",
        "import pandas as pd\n",
        "from itertools import product"
      ]
    },
    {
      "cell_type": "markdown",
      "source": [
        "### Producing unique table for all Simulation A"
      ],
      "metadata": {
        "id": "-c_VgBwm14SJ"
      }
    },
    {
      "cell_type": "code",
      "source": [
        "p_s = [500,100]\n",
        "d_s = [2,4,8]\n",
        "list_all = []\n",
        "\n",
        "for p in p_s:\n",
        "  for d in d_s:\n",
        "    with open(\"df_performance_applam_p{0}_d{1}.csv\".format(p,d), newline='') as my_csv_applam:\n",
        "        df_applam = pd.read_csv(my_csv_applam)\n",
        "\n",
        "    with open(\"df_performance_lamb_p{0}_d{1}.csv\".format(p,d), newline='') as my_csv_lamb:\n",
        "        df_lamb = pd.read_csv(my_csv_lamb)\n",
        "\n",
        "    list_all.append(df_applam)\n",
        "    list_all.append(df_lamb)\n",
        "\n",
        "df_all = pd.concat(list_all)\n",
        "df_all.to_csv(\"df_all_results.csv\")"
      ],
      "metadata": {
        "id": "8yRbwnX713HJ"
      },
      "execution_count": null,
      "outputs": []
    },
    {
      "cell_type": "markdown",
      "source": [
        "# Producing Tables"
      ],
      "metadata": {
        "id": "gW2e9E2bfNHx"
      }
    },
    {
      "cell_type": "code",
      "source": [
        "p_s = [500,100]\n",
        "d_s = [2,4,8]\n",
        "conc_dir_s = [0.1, 0.5, 1]\n",
        "rho_s = [0.5, 1, 5]"
      ],
      "metadata": {
        "id": "mohO2kkM2o-f"
      },
      "execution_count": null,
      "outputs": []
    },
    {
      "cell_type": "markdown",
      "source": [
        "### Produce one csv for each p"
      ],
      "metadata": {
        "id": "LutmOu0O2D7d"
      }
    },
    {
      "cell_type": "code",
      "source": [
        "with open(\"df_all_results.csv\", newline='') as my_csv_all:\n",
        "        df_all = pd.read_csv(my_csv_all)\n",
        "\n",
        "for p in p_s:\n",
        "\n",
        "  ar_ind = []\n",
        "\n",
        "  data = df_all.loc[df_all['p']==p]\n",
        "\n",
        "  data_agg = data.groupby(['d','model']).agg(\n",
        "      avg_avg_nclus = pd.NamedAgg(column = 'avg_nclus', aggfunc = mean)\n",
        "      avg_mode_nclus = pd.NamedAgg(column = 'mode_nclus', aggfunc = mean)\n",
        "      avg_ari_best = pd.NamedAgg(column = 'ari_best_clus', aggfunc = mean)\n",
        "  )\n",
        "\n",
        "\n",
        "  ar_lamb = [np.repeat(d,3),np.repeat(\"Lamb\",3),conc_dir_s]\n",
        "  ar_lamb = list(zip(*ar_lamb))\n",
        "\n",
        "  ar_app = [np.repeat(d,3),np.repeat(\"APPLAM\",3),rho_s]\n",
        "  ar_app = list(zip(*ar_app))\n",
        "\n",
        "  ar_ind = [*ar_ind, *ar_lamb,*ar_app]\n",
        "\n",
        "\n",
        "  index = pd.MultiIndex.from_tuples(ar_ind, names=[\"Latent dim\", \"Model\", \"Parameter\"])\n",
        "\n",
        "  df_final = data_agg.set_index(index)\n",
        "\n",
        "  df_final.to_csv(\"summarizing_dataframe_p_{0}.csv\".format(p))\n",
        "\n"
      ],
      "metadata": {
        "id": "yUmpsbpVfYUx"
      },
      "execution_count": null,
      "outputs": []
    },
    {
      "cell_type": "markdown",
      "source": [
        "### Produce the table in latex format"
      ],
      "metadata": {
        "id": "cESBgest6orr"
      }
    },
    {
      "cell_type": "code",
      "source": [
        "for p in p_s:\n",
        "    with open(\"summarizing_dataframe_p_{0}.csv\".format(p), newline='') as my_csv:\n",
        "        df = pd.read_csv(my_csv, index_col=[0,1,2])\n",
        "\n",
        "    df[\"avg_avg_nclus\"] = df[\"avg_avg_nclus\"].round(2)\n",
        "    df[\"avg_mode_nclus\"] = df[\"avg_mode_nclus\"].round(2)\n",
        "\n",
        "    df[\"avg_ari_best\"] = df[\"avg_ari_best\"].round(2)\n",
        "\n",
        "    print(\"p = \",p)\n",
        "\n",
        "    print(df.to_latex())"
      ],
      "metadata": {
        "id": "qPcpuMFFdpCo"
      },
      "execution_count": null,
      "outputs": []
    },
    {
      "cell_type": "markdown",
      "source": [
        "# Producing boxplots"
      ],
      "metadata": {
        "id": "jcwz0SDkflJ2"
      }
    },
    {
      "cell_type": "markdown",
      "source": [
        "### Plot the boxplots"
      ],
      "metadata": {
        "id": "TXejCVZW196M"
      }
    },
    {
      "cell_type": "code",
      "source": [
        "with open(\"df_all_results.csv\", newline='') as my_csv_all:\n",
        "        df_all = pd.read_csv(my_csv_all)"
      ],
      "metadata": {
        "id": "wvnKWumA1PP6"
      },
      "execution_count": null,
      "outputs": []
    },
    {
      "cell_type": "code",
      "source": [
        "fig, axs = plt.subplots(2, 3)\n",
        "\n",
        "for idx_d, d in enumerate(d_s):\n",
        "\n",
        "  # APPLAM row\n",
        "  data = df_all.loc[df_all['model']=='APPLAM' & df_all['d']==d]\n",
        "  sns.boxplot(ax = axs[0,idx_d],\n",
        "              x = data['p'],\n",
        "              y = data['avg_nclus'],\n",
        "              hue = data['intensity'],\n",
        "              palette = 'husl')\n",
        "  # Lamb row\n",
        "  data = df_all.loc[df_all['model']=='Lamb' & df_all['d']==d]\n",
        "  sns.boxplot(ax = axs[1,idx_d],\n",
        "              x = data['p'],\n",
        "              y = data['avg_nclus'],\n",
        "              hue = data['conc_dir'],\n",
        "              palette = 'husl')"
      ],
      "metadata": {
        "id": "2l_Gz7C8fnfr"
      },
      "execution_count": null,
      "outputs": []
    }
  ]
}